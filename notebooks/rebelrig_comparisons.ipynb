{
 "cells": [
  {
   "cell_type": "code",
   "execution_count": 3,
   "metadata": {},
   "outputs": [
    {
     "name": "stdout",
     "output_type": "stream",
     "text": [
      "Looking in indexes: https://pypi.org/simple, https://pypi.ngc.nvidia.com\n",
      "Collecting matplotlib\n",
      "  Downloading matplotlib-3.5.3-cp37-cp37m-manylinux_2_5_x86_64.manylinux1_x86_64.whl (11.2 MB)\n",
      "\u001b[2K     \u001b[90m━━━━━━━━━━━━━━━━━━━━━━━━━━━━━━━━━━━━━━━━\u001b[0m \u001b[32m11.2/11.2 MB\u001b[0m \u001b[31m11.7 MB/s\u001b[0m eta \u001b[36m0:00:00\u001b[0ma \u001b[36m0:00:01\u001b[0m\n",
      "\u001b[?25hRequirement already satisfied: pillow>=6.2.0 in /home/neni/.venv/thesis/lib/python3.7/site-packages (from matplotlib) (9.4.0)\n",
      "Requirement already satisfied: packaging>=20.0 in /home/neni/.venv/thesis/lib/python3.7/site-packages (from matplotlib) (23.0)\n",
      "Collecting kiwisolver>=1.0.1\n",
      "  Downloading kiwisolver-1.4.4-cp37-cp37m-manylinux_2_5_x86_64.manylinux1_x86_64.whl (1.1 MB)\n",
      "\u001b[2K     \u001b[90m━━━━━━━━━━━━━━━━━━━━━━━━━━━━━━━━━━━━━━━━\u001b[0m \u001b[32m1.1/1.1 MB\u001b[0m \u001b[31m11.9 MB/s\u001b[0m eta \u001b[36m0:00:00\u001b[0ma \u001b[36m0:00:01\u001b[0m\n",
      "\u001b[?25hCollecting cycler>=0.10\n",
      "  Downloading cycler-0.11.0-py3-none-any.whl (6.4 kB)\n",
      "Requirement already satisfied: python-dateutil>=2.7 in /home/neni/.venv/thesis/lib/python3.7/site-packages (from matplotlib) (2.8.2)\n",
      "Requirement already satisfied: numpy>=1.17 in /home/neni/.venv/thesis/lib/python3.7/site-packages (from matplotlib) (1.21.6)\n",
      "Collecting fonttools>=4.22.0\n",
      "  Downloading fonttools-4.38.0-py3-none-any.whl (965 kB)\n",
      "\u001b[2K     \u001b[90m━━━━━━━━━━━━━━━━━━━━━━━━━━━━━━━━━━━━━━\u001b[0m \u001b[32m965.4/965.4 kB\u001b[0m \u001b[31m11.9 MB/s\u001b[0m eta \u001b[36m0:00:00\u001b[0ma \u001b[36m0:00:01\u001b[0m\n",
      "\u001b[?25hCollecting pyparsing>=2.2.1\n",
      "  Downloading pyparsing-3.0.9-py3-none-any.whl (98 kB)\n",
      "\u001b[2K     \u001b[90m━━━━━━━━━━━━━━━━━━━━━━━━━━━━━━━━━━━━━━━━\u001b[0m \u001b[32m98.3/98.3 kB\u001b[0m \u001b[31m14.5 MB/s\u001b[0m eta \u001b[36m0:00:00\u001b[0m\n",
      "\u001b[?25hRequirement already satisfied: typing-extensions in /home/neni/.venv/thesis/lib/python3.7/site-packages (from kiwisolver>=1.0.1->matplotlib) (4.4.0)\n",
      "Requirement already satisfied: six>=1.5 in /home/neni/.venv/thesis/lib/python3.7/site-packages (from python-dateutil>=2.7->matplotlib) (1.16.0)\n",
      "Installing collected packages: pyparsing, kiwisolver, fonttools, cycler, matplotlib\n",
      "Successfully installed cycler-0.11.0 fonttools-4.38.0 kiwisolver-1.4.4 matplotlib-3.5.3 pyparsing-3.0.9\n",
      "\n",
      "\u001b[1m[\u001b[0m\u001b[34;49mnotice\u001b[0m\u001b[1;39;49m]\u001b[0m\u001b[39;49m A new release of pip is available: \u001b[0m\u001b[31;49m23.0\u001b[0m\u001b[39;49m -> \u001b[0m\u001b[32;49m23.0.1\u001b[0m\n",
      "\u001b[1m[\u001b[0m\u001b[34;49mnotice\u001b[0m\u001b[1;39;49m]\u001b[0m\u001b[39;49m To update, run: \u001b[0m\u001b[32;49mpip install --upgrade pip\u001b[0m\n"
     ]
    }
   ],
   "source": [
    "!pip install matplotlib"
   ]
  },
  {
   "cell_type": "code",
   "execution_count": 11,
   "metadata": {},
   "outputs": [],
   "source": [
    "import matplotlib.pyplot as plt\n",
    "import pandas as pd\n",
    "from pathlib import Path"
   ]
  },
  {
   "cell_type": "code",
   "execution_count": 40,
   "metadata": {},
   "outputs": [],
   "source": [
    "def get_avg_throughput(df):\n",
    "    throughput = df[\"throughput\"][1:].mean()\n",
    "    return throughput"
   ]
  },
  {
   "cell_type": "code",
   "execution_count": 48,
   "metadata": {},
   "outputs": [],
   "source": [
    "model = \"resnet18\"\n",
    "batch_size = 150\n",
    "workers = 8\n",
    "log_path = Path(\"/home/neni/repos/thesis/logs/\")\n",
    "\n",
    "results = {}\n",
    "\n",
    "all_gpus = [[0], [0, 1], [0, 1, 2]]\n",
    "\n",
    "for gpus in all_gpus:\n",
    "\n",
    "    base_path = f\"{model}_b{batch_size}_j{workers}_dev{''.join(map(str,gpus))}\"\n",
    "\n",
    "    workloads = [\"\", \"_dummy\", \"_dummy_no_memcpy\"]\n",
    "\n",
    "    frames = {}\n",
    "\n",
    "    for workload in workloads:\n",
    "        for gpu in gpus:\n",
    "            path = log_path / Path(base_path + workload + f\"_gpu{gpu}.csv\")\n",
    "            #print(path)\n",
    "            df = pd.read_csv(path, index_col=0)\n",
    "            wl_name = workload[1:] if workload else \"base\"\n",
    "            name = wl_name + \"_\" + f\"gpu_{gpu}\"\n",
    "            frames[name] = get_avg_throughput(df)\n",
    "    results[\"\".join(map(str,gpus))] = frames"
   ]
  },
  {
   "cell_type": "code",
   "execution_count": 101,
   "metadata": {},
   "outputs": [],
   "source": [
    "def convert_results(results):\n",
    "    keys = results.keys()\n",
    "    new_results = {}\n",
    "\n",
    "    workloads = [\"base_gpu_\", \"dummy_gpu_\", \"dummy_no_memcpy_gpu_\"]\n",
    "    names = [\"Base\", \"Dummy\\n(memcpy)\", \"Dummy\\n(on device)\"]\n",
    "\n",
    "    for key in keys:\n",
    "        dev_results = {\"name\": [], \"throughput\": []}\n",
    "        for i, wl in enumerate(workloads):\n",
    "            sums = []\n",
    "            for k in [*key]:\n",
    "                sums.append(results[key][wl+k])\n",
    "            #dev_results[names[i]] = int(sum(sums) / len(sums))\n",
    "            dev_results[\"name\"].append(names[i])\n",
    "            dev_results[\"throughput\"].append(int(sum(sums) / len(sums)))\n",
    "        new_results[key] = dev_results\n",
    "    return new_results"
   ]
  },
  {
   "cell_type": "code",
   "execution_count": 102,
   "metadata": {},
   "outputs": [
    {
     "data": {
      "text/plain": [
       "{'0': {'name': ['Base', 'Dummy\\n(memcpy)', 'Dummy\\n(on device)'],\n",
       "  'throughput': [253, 289, 510]},\n",
       " '01': {'name': ['Base', 'Dummy\\n(memcpy)', 'Dummy\\n(on device)'],\n",
       "  'throughput': [380, 413, 581]},\n",
       " '012': {'name': ['Base', 'Dummy\\n(memcpy)', 'Dummy\\n(on device)'],\n",
       "  'throughput': [429, 528, 587]}}"
      ]
     },
     "execution_count": 102,
     "metadata": {},
     "output_type": "execute_result"
    }
   ],
   "source": [
    "final_results = convert_results(results)\n",
    "final_results"
   ]
  },
  {
   "cell_type": "code",
   "execution_count": null,
   "metadata": {},
   "outputs": [],
   "source": []
  },
  {
   "cell_type": "code",
   "execution_count": 109,
   "metadata": {},
   "outputs": [
    {
     "data": {
      "image/png": "[encoded data removed]",
      "text/plain": [
       "<Figure size 1000x400 with 3 Axes>"
      ]
     },
     "metadata": {},
     "output_type": "display_data"
    }
   ],
   "source": [
    "fig, (ax1, ax2, ax3) = plt.subplots(1, 3, figsize=(10,4))\n",
    "devices = [\"0\", \"01\", \"012\"]\n",
    "names = [\"1 device\", \"2 devices\", \"3 devices\"]\n",
    "\n",
    "for i, ax in enumerate([ax1, ax2, ax3]):\n",
    "    ax.bar(final_results[devices[i]][\"name\"], final_results[devices[i]][\"throughput\"])\n",
    "    ax.set_xlabel('Workload')\n",
    "    plt.setp(ax.get_xticklabels(), ha=\"center\", rotation=45)\n",
    "    ax.set_ylabel('Throughput (img/s)')\n",
    "    ax.set_title(names[i])\n",
    "    ax.set_ylim(0, 600)\n",
    "    ax.set_axisbelow(True)\n",
    "    ax.grid(color='gray', linestyle='dashed')\n",
    "    \n",
    "\n",
    "# adjust layout and display subplots\n",
    "plt.tight_layout()\n",
    "plt.show()"
   ]
  },
  {
   "cell_type": "code",
   "execution_count": null,
   "metadata": {},
   "outputs": [],
   "source": []
  },
  {
   "cell_type": "code",
   "execution_count": null,
   "metadata": {},
   "outputs": [],
   "source": []
  },
  {
   "cell_type": "code",
   "execution_count": null,
   "metadata": {},
   "outputs": [],
   "source": []
  }
 ],
 "metadata": {
  "kernelspec": {
   "display_name": "thesis",
   "language": "python",
   "name": "python3"
  },
  "language_info": {
   "codemirror_mode": {
    "name": "ipython",
    "version": 3
   },
   "file_extension": ".py",
   "mimetype": "text/x-python",
   "name": "python",
   "nbconvert_exporter": "python",
   "pygments_lexer": "ipython3",
   "version": "3.7.5"
  },
  "orig_nbformat": 4,
  "vscode": {
   "interpreter": {
    "hash": "2d748bf96fe88f5a778690e82761034fb59aacb292aca4181827a43c3af19cb5"
   }
  }
 },
 "nbformat": 4,
 "nbformat_minor": 2
}
